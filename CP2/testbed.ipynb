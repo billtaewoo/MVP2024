{
 "cells": [
  {
   "cell_type": "code",
   "execution_count": 1,
   "metadata": {},
   "outputs": [],
   "source": [
    "import numpy as np"
   ]
  },
  {
   "cell_type": "code",
   "execution_count": 2,
   "metadata": {},
   "outputs": [
    {
     "name": "stdout",
     "output_type": "stream",
     "text": [
      "Number of value 1: 4\n"
     ]
    }
   ],
   "source": [
    "\n",
    "\n",
    "# Assuming 'lattice' is your NumPy array\n",
    "lattice = np.array([[0, 1, 2],\n",
    "                     [1, 2, 0],\n",
    "                     [2, 1, 1]])\n",
    "\n",
    "# Count the occurrences of value 1\n",
    "num_ones = np.count_nonzero(lattice == 1)\n",
    "\n",
    "print(\"Number of value 1:\", num_ones)\n"
   ]
  }
 ],
 "metadata": {
  "kernelspec": {
   "display_name": "Python 3",
   "language": "python",
   "name": "python3"
  },
  "language_info": {
   "codemirror_mode": {
    "name": "ipython",
    "version": 3
   },
   "file_extension": ".py",
   "mimetype": "text/x-python",
   "name": "python",
   "nbconvert_exporter": "python",
   "pygments_lexer": "ipython3",
   "version": "3.12.1"
  }
 },
 "nbformat": 4,
 "nbformat_minor": 2
}
