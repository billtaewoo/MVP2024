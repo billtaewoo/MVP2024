{
 "cells": [
  {
   "cell_type": "code",
   "execution_count": 1,
   "metadata": {},
   "outputs": [],
   "source": [
    "import numpy as np"
   ]
  },
  {
   "cell_type": "code",
   "execution_count": 2,
   "metadata": {},
   "outputs": [
    {
     "name": "stdout",
     "output_type": "stream",
     "text": [
      "[[ 1  2  3  4]\n",
      " [ 5  6  7  8]\n",
      " [ 9 10 11 12]\n",
      " [13 14 15 16]]\n"
     ]
    }
   ],
   "source": [
    "x = np.arange(1, 17).reshape(4, 4)\n",
    "print(x)"
   ]
  },
  {
   "cell_type": "code",
   "execution_count": 4,
   "metadata": {},
   "outputs": [
    {
     "name": "stdout",
     "output_type": "stream",
     "text": [
      "[[16 13 14 15]\n",
      " [ 4  1  2  3]\n",
      " [ 8  5  6  7]\n",
      " [12  9 10 11]]\n"
     ]
    }
   ],
   "source": [
    "x_prime = np.roll(x, 1, axis=(0,1))\n",
    "print(x_prime)"
   ]
  },
  {
   "cell_type": "code",
   "execution_count": 5,
   "metadata": {},
   "outputs": [
    {
     "name": "stdout",
     "output_type": "stream",
     "text": [
      "[[ 6  7  8  5]\n",
      " [10 11 12  9]\n",
      " [14 15 16 13]\n",
      " [ 2  3  4  1]]\n"
     ]
    }
   ],
   "source": [
    "x_prime = np.roll(x, -1, axis=(0,1))\n",
    "print(x_prime)"
   ]
  },
  {
   "cell_type": "code",
   "execution_count": 12,
   "metadata": {},
   "outputs": [
    {
     "name": "stdout",
     "output_type": "stream",
     "text": [
      "[[16 13 14 15]\n",
      " [ 4  1  2  3]\n",
      " [ 8  5  6  7]\n",
      " [12  9 10 11]]\n"
     ]
    }
   ],
   "source": [
    "x_prime = np.roll(x, 1, axis=(-1,0))\n",
    "print(x_prime)"
   ]
  }
 ],
 "metadata": {
  "kernelspec": {
   "display_name": "Python 3",
   "language": "python",
   "name": "python3"
  },
  "language_info": {
   "codemirror_mode": {
    "name": "ipython",
    "version": 3
   },
   "file_extension": ".py",
   "mimetype": "text/x-python",
   "name": "python",
   "nbconvert_exporter": "python",
   "pygments_lexer": "ipython3",
   "version": "3.12.1"
  }
 },
 "nbformat": 4,
 "nbformat_minor": 2
}
